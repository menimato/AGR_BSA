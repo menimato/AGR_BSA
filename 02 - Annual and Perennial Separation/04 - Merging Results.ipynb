{
 "cells": [
  {
   "cell_type": "markdown",
   "metadata": {},
   "source": [
    "# SCRIPT 04 - Merging Results\n",
    "\n",
    "The previous script made predictions according to each tile separately. The script did not immediately merge all results in order to provide better flexibility for the user to decide the order and amount of tiles to be processed in each run. Therefore, this script helps mosaicing all tiles to generate a single .tif file with all results."
   ]
  },
  {
   "cell_type": "markdown",
   "metadata": {},
   "source": [
    "For the correct use of this script, GDAL must be usable from terminal/command prompt. Furthermore, the following libraries are necessary.\n",
    "\n",
    "+ `glob`\n",
    "    + Library used to gather file paths according to name and path patterns.\n",
    "+ `os`\n",
    "    + Library used to handle paths concatenation."
   ]
  },
  {
   "cell_type": "code",
   "execution_count": null,
   "metadata": {},
   "outputs": [],
   "source": [
    "import glob\n",
    "import os"
   ]
  },
  {
   "cell_type": "markdown",
   "metadata": {},
   "source": [
    "The following parameter must be adapted:\n",
    "\n",
    "+ `path_to_predictions_folder` (`string`)\n",
    "    + Path to the folder where the predictions for tiles are stored."
   ]
  },
  {
   "cell_type": "code",
   "execution_count": null,
   "metadata": {},
   "outputs": [],
   "source": [
    "path_to_predictions_folder = '/path/to/predictions/folder'"
   ]
  },
  {
   "cell_type": "markdown",
   "metadata": {},
   "source": [
    "Gather all .tif files inside predictions folder."
   ]
  },
  {
   "cell_type": "code",
   "execution_count": null,
   "metadata": {},
   "outputs": [],
   "source": [
    "files = glob.glob(os.path.join(path_to_predictions_folder, '*.tif'))\n",
    "files.sort()\n",
    "len(files)"
   ]
  },
  {
   "cell_type": "markdown",
   "metadata": {},
   "source": [
    "Creates a .vrt file with all tiles and then use gdal_translate to generate the final file."
   ]
  },
  {
   "cell_type": "code",
   "execution_count": null,
   "metadata": {},
   "outputs": [],
   "source": [
    "os.chdir(path_to_predictions_folder)\n",
    "\n",
    "with open('./vrtInputFiles.txt', 'w') as f:\n",
    "    f.write('\\n'.join(files))\n",
    "\n",
    "command = 'gdalbuildvrt -vrtnodata 0 -input_file_list vrtInputFiles.txt aux.vrt'\n",
    "subprocess.call(command, shell=True)\n",
    "\n",
    "command = f'gdal_translate aux.vrt merged_predictions.tif -co COMPRESS=PACKBITS'\n",
    "!{command}"
   ]
  }
 ],
 "metadata": {
  "kernelspec": {
   "display_name": "Python 3",
   "language": "python",
   "name": "python3"
  },
  "language_info": {
   "codemirror_mode": {
    "name": "ipython",
    "version": 3
   },
   "file_extension": ".py",
   "mimetype": "text/x-python",
   "name": "python",
   "nbconvert_exporter": "python",
   "pygments_lexer": "ipython3",
   "version": "3.6.9"
  }
 },
 "nbformat": 4,
 "nbformat_minor": 4
}
