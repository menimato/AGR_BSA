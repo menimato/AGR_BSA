{
 "cells": [
  {
   "cell_type": "markdown",
   "metadata": {},
   "source": [
    "# SCRIPT 03 - Create Prediction\n",
    "\n",
    "In this script, a trained model is applied to all study area in tiles, resulting in the separation between annual and perennial agriculture for each tile."
   ]
  },
  {
   "cell_type": "markdown",
   "metadata": {},
   "source": [
    "Important libraries are used by the script:\n",
    "\n",
    "+ `rasterio`\n",
    "    + Used to open raster files, necessary to access the time series data.\n",
    "+ `numpy`\n",
    "    + Used to store data in matrix format and allowing algebra operations with arrays, facilitating data processing.\n",
    "+ `pyplot`\n",
    "    + Used to plot results for error inspection.\n",
    "+ `tensorflow`\n",
    "    + The library necessary for all things deep learning in the script. Loads the model and makes the prediction with Keras.\n",
    "+ `tqdm`\n",
    "    + Displays a progressbar to help estimate processing times.\n",
    "+ `glob`\n",
    "    + Necessary for gathering files according to path and name patterns.\n",
    "+ `os`\n",
    "    + Basic system operations, such as concatenating paths and creating folders."
   ]
  },
  {
   "cell_type": "code",
   "execution_count": null,
   "metadata": {},
   "outputs": [],
   "source": [
    "import rasterio as r\n",
    "import numpy as np\n",
    "import matplotlib.pyplot as plt\n",
    "import tensorflow as tf\n",
    "from tqdm import tqdm\n",
    "import glob\n",
    "import os"
   ]
  },
  {
   "cell_type": "markdown",
   "metadata": {},
   "source": [
    "The following parameters define how the predictions happens. They must be carefully altered, because most need to match previously defined parameters and generated data.\n",
    "\n",
    "+ `tiles` (`array` of `int`)\n",
    "    + An array with the list of tile ids that the user wish to make the prediction to.\n",
    "+ `path_to_model_folder` (`string`)\n",
    "    + The complete path to the folder that contains the model for the prediction. According to previously trained models, this path must also contain the name of the folder created with the model id.\n",
    "+ `path_to_limits` (`string`)\n",
    "    + The path the the file with limits used for scaling training samples. It must be from the same group of samples used to train the model.\n",
    "+ `path_to_predictions_folder` (`string`)\n",
    "    + A path to the folder where the resulting tiles with predicted values should be stored.\n",
    "+ `path_to_folder_with_agriculture_mask_tiles` (`string`)\n",
    "    + The path to the folder with agriculture masks considering during processing, but before merging, i.e., separated according to tile.\n",
    "+ `path_to_monthly_time_series_folder` (`string`)\n",
    "    + A path to the folder containing monthly time series separated in tiles. Like used in script 01. Time series files should follow the pattern 'Reduction_Optical_Months_id{tile:03}_B2.tif'.\n",
    "+ `batch_size` (`int`)\n",
    "    + The batch size used for predicting over data. It is recommended to be the same as during training."
   ]
  },
  {
   "cell_type": "code",
   "execution_count": null,
   "metadata": {},
   "outputs": [],
   "source": [
    "tiles = [  9, 10, 11, 13, 14, 15, 23, 24, 25, 26, \n",
    "           27, 29, 30, 31, 32, 38, 39, 40, 41, 42, \n",
    "           43, 44, 45, 46, 47, 48, 51, 52, 53, 54, \n",
    "           55, 56, 57, 58, 59, 60, 61, 62, 63, 65, \n",
    "           66, 67, 68, 69, 70, 71, 72, 73, 74, 75, \n",
    "           76, 77, 78, 79, 80, 81, 82, 83, 84, 85, \n",
    "           86, 87, 88, 89, 90, 91, 92, 93, 94, 95, \n",
    "           96, 97, 98, 99,100,101,102,103,104,105,\n",
    "          106,107,108,109,110,111,113,114,115,116,\n",
    "          117,118,119,120,121,122,123,124,125,126,\n",
    "          127,130,131,132,133,134,135,136,137,138,\n",
    "          139,147,148,149,150,151,152,153,154,163,\n",
    "          164,165,166,167,168,169,179,180,181,182,\n",
    "          183]\n",
    "path_to_model_folder = '/path/to/model/folder'\n",
    "path_to_limits = '/path/to/(samples_id)_limits.npy'\n",
    "path_to_predictions_folder = '/path/to/predictions/folder'\n",
    "path_to_folder_with_agriculture_mask_tiles = '/path/to/folder/with/agriculture/mask/tiles'\n",
    "path_to_monthly_time_series_folder = '/path/to/time/series/tiles/folder'\n",
    "batch_size = 2048"
   ]
  },
  {
   "cell_type": "markdown",
   "metadata": {},
   "source": [
    "Here data is loaded, scaled, and then predicted upon. Later it is saved in the specified folder."
   ]
  },
  {
   "cell_type": "code",
   "execution_count": null,
   "metadata": {},
   "outputs": [],
   "source": [
    "limits = np.load(path_to_limits)\n",
    "\n",
    "models_paths = glob.glob(os.path.join(path_to_model_folder, '*.h5'))\n",
    "models_paths.sort()\n",
    "model = tf.keras.models.load_model(models_paths[-1])\n",
    "print('Model loaded from:', models_paths[-1])\n",
    "\n",
    "for tile in tqdm(tiles):\n",
    "    if not os.path.exists(os.path.join(path_to_predictions_folder, f'{tile:03}.tif')):\n",
    "        mask = r.open(os.path.join(path_to_folder_with_agriculture_mask_tiles, f'result_id{tile:03}.tif')).read(1)\n",
    "        mask_mask = mask==1\n",
    "        \n",
    "        # in case there are pixels to classify\n",
    "        if mask_mask.any():\n",
    "            # obtaining data\n",
    "            data = np.asarray([r.open(os.path.join(path_to_monthly_time_series_folder, f'Reduction_Optical_Months_id{tile:03}_B2.tif')).read()[:,mask_mask],\n",
    "                               r.open(os.path.join(path_to_monthly_time_series_folder, f'Reduction_Optical_Months_id{tile:03}_B3.tif')).read()[:,mask_mask],\n",
    "                               r.open(os.path.join(path_to_monthly_time_series_folder, f'Reduction_Optical_Months_id{tile:03}_B4.tif')).read()[:,mask_mask],\n",
    "                               r.open(os.path.join(path_to_monthly_time_series_folder, f'Reduction_Optical_Months_id{tile:03}_B8.tif')).read()[:,mask_mask],\n",
    "                               r.open(os.path.join(path_to_monthly_time_series_folder, f'Reduction_Optical_Months_id{tile:03}_B11.tif')).read()[:,mask_mask],\n",
    "                               r.open(os.path.join(path_to_monthly_time_series_folder, f'Reduction_Optical_Months_id{tile:03}_B12.tif')).read()[:,mask_mask]], dtype=np.float32).T\n",
    "\n",
    "            # scaling data\n",
    "            for i in range(data.shape[-1]):\n",
    "                data[:,:,i] = (data[:,:,i]-limits[i,0])/(limits[i,1]-limits[i,0])\n",
    "\n",
    "            prediction = np.argmax(model.predict(data, batch_size=batch_size), axis=-1)+1\n",
    "\n",
    "            result = np.zeros(mask.shape, dtype=np.byte)\n",
    "            result[mask_mask] = prediction\n",
    "\n",
    "            with r.Env():\n",
    "\n",
    "                # Write an array as a raster band to a new 8-bit file. For\n",
    "                # the new file's profile, we start with the profile of the source\n",
    "                profile = r.open(os.path.join(path_to_folder_with_agriculture_mask_tiles, f'result_id{tile:03}.tif')).profile\n",
    "\n",
    "                # And then change the band count to 1, set the\n",
    "                # dtype to uint8, and specify LZW compression.\n",
    "                profile.update(\n",
    "                    dtype=r.uint8,\n",
    "                    count=1,\n",
    "                    compress='packbits')\n",
    "\n",
    "                with r.open(os.path.join(path_to_predictions_folder, f'{tile:03}.tif'), 'w', **profile) as dst:\n",
    "                    dst.write(result.astype(r.uint8), 1)"
   ]
  }
 ],
 "metadata": {
  "kernelspec": {
   "display_name": "Python 3",
   "language": "python",
   "name": "python3"
  },
  "language_info": {
   "codemirror_mode": {
    "name": "ipython",
    "version": 3
   },
   "file_extension": ".py",
   "mimetype": "text/x-python",
   "name": "python",
   "nbconvert_exporter": "python",
   "pygments_lexer": "ipython3",
   "version": "3.9.16"
  }
 },
 "nbformat": 4,
 "nbformat_minor": 4
}
