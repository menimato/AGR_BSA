{
 "cells": [
  {
   "cell_type": "markdown",
   "metadata": {},
   "source": [
    "# SCRIPT 03: Rasterize Reference\n",
    "\n",
    "This is the third script used in the methodology. Here, the segmented polygons are rasterized according to their statistics, creating the reference data used during the samples selection step. This data is particularly useful when filtering the references and extracting the reference of each training sample, because the shapefiles created for each segmentation is usually large and represent a bottleneck during te rest of the metodology because of its loadgin time.\n",
    "\n",
    "In the following cells, please refer to the comments in the code for further explanations of its functioning."
   ]
  },
  {
   "cell_type": "code",
   "execution_count": null,
   "metadata": {},
   "outputs": [],
   "source": [
    "# importing packages\n",
    "import rasterio as r\n",
    "import glob\n",
    "from tqdm import tqdm"
   ]
  },
  {
   "cell_type": "code",
   "execution_count": null,
   "metadata": {},
   "outputs": [],
   "source": [
    "# gets all shapefiles to be rasterized\n",
    "shapefiles = glob.glob('/home/bruno.matosak/Semiarido/MultiInput/segmentations/segmentation_id*.shp')\n",
    "len(shapefiles)"
   ]
  },
  {
   "cell_type": "code",
   "execution_count": null,
   "metadata": {},
   "outputs": [],
   "source": [
    "# loops though all files and make the rasterization using the terminal.\n",
    "# OBS.: gdal must be enabled to be used through the terminal in order to\n",
    "#       this cell work properly and generate desirable results.\n",
    "for shp in tqdm(shapefiles):\n",
    "    # opens reference for rasterization parameters\n",
    "    ref = r.open(shp.replace('.shp', '_geo.tif'))\n",
    "    \n",
    "    # defines the command used in the rasterization\n",
    "    command = ' '.join(['gdal_rasterize',\n",
    "                        '-a max_GEM',\n",
    "                        f' -ts {ref.width}.0 {ref.height}.0',\n",
    "                        '-init 0.0',\n",
    "                        '-a_nodata 0.0',\n",
    "                        f'-te {ref.bounds.left} {ref.bounds.bottom} {ref.bounds.right} {ref.bounds.top}',\n",
    "                        '-ot Byte',\n",
    "                        '-of GTiff',\n",
    "                        '-co COMPRESS=PACKBITS',\n",
    "                        '\"'+shp+'\"',\n",
    "                        '\"'+shp.replace('/segmentation_', '/GEM_').replace('.shp', '.tif')+'\"'])\n",
    "    \n",
    "    # the command call\n",
    "    !{command}"
   ]
  }
 ],
 "metadata": {
  "kernelspec": {
   "display_name": "Python 3 (ipykernel)",
   "language": "python",
   "name": "python3"
  },
  "language_info": {
   "codemirror_mode": {
    "name": "ipython",
    "version": 3
   },
   "file_extension": ".py",
   "mimetype": "text/x-python",
   "name": "python",
   "nbconvert_exporter": "python",
   "pygments_lexer": "ipython3",
   "version": "3.11.0"
  }
 },
 "nbformat": 4,
 "nbformat_minor": 4
}
