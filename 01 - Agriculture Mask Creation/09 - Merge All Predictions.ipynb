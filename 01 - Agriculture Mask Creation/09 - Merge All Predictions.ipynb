{
 "cells": [
  {
   "cell_type": "markdown",
   "metadata": {},
   "source": [
    "# SCRIPT 09: Merge All Predictions\n",
    "\n",
    "This is the ninth script in the methodology. Here, the predictions made in SCRIPT 09 for every tile are all merged togrther to form a single file, with the classification for the entire study area.\n",
    "\n",
    "In the following cells, please refer to the comments in the code for further explanations of its functioning."
   ]
  },
  {
   "cell_type": "code",
   "execution_count": null,
   "metadata": {},
   "outputs": [],
   "source": [
    "# importing packages\n",
    "import glob\n",
    "import subprocess"
   ]
  },
  {
   "cell_type": "code",
   "execution_count": null,
   "metadata": {},
   "outputs": [],
   "source": [
    "# the model id and iteration to read the prediction files\n",
    "model = '05'\n",
    "iteration = '02'\n",
    "\n",
    "# predictions folder\n",
    "files = glob.glob(f'/home/bruno.matosak/Semiarido/MultiInput/predictions/model_{model}/iteration_{iteration}/result_id*.tif')\n",
    "files.sort()\n",
    "print('Total number of files:', len(files))"
   ]
  },
  {
   "cell_type": "code",
   "execution_count": null,
   "metadata": {},
   "outputs": [],
   "source": [
    "# writting the file names in a txt file\n",
    "with open('./vrtInputFiles.txt', 'w') as f:\n",
    "    f.write('\\n'.join(files))\n",
    "\n",
    "# creating the vrt with the mosaic\n",
    "command = 'gdalbuildvrt -vrtnodata 0 -input_file_list vrtInputFiles.txt aux.vrt'\n",
    "subprocess.call(command, shell=True)\n",
    "\n",
    "# translating the vrt to .tif\n",
    "command = f'gdal_translate aux.vrt /home/bruno.matosak/Semiarido/MultiInput/predictions/merged_predictions_model_{model}_iteration_{iteration}.tif -co COMPRESS=PACKBITS'\n",
    "!{command}"
   ]
  }
 ],
 "metadata": {
  "kernelspec": {
   "display_name": "Python 3 (ipykernel)",
   "language": "python",
   "name": "python3"
  },
  "language_info": {
   "codemirror_mode": {
    "name": "ipython",
    "version": 3
   },
   "file_extension": ".py",
   "mimetype": "text/x-python",
   "name": "python",
   "nbconvert_exporter": "python",
   "pygments_lexer": "ipython3",
   "version": "3.11.0"
  }
 },
 "nbformat": 4,
 "nbformat_minor": 4
}
