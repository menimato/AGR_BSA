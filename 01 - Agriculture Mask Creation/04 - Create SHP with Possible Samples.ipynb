{
 "cells": [
  {
   "cell_type": "markdown",
   "metadata": {},
   "source": [
    "# SCRIPT 04: Create SHP with Possible Samples\n",
    "\n",
    "This is the fourth script used in the methodology. Here, a shapefile is created for each tile with a grid of possible training samples. This is used afterwards with the reference created in the past script in order to manually select appropriate training samples.\n",
    "\n",
    "In the following cells, please refer to the comments in the code for further explanations of its functioning."
   ]
  },
  {
   "cell_type": "code",
   "execution_count": null,
   "metadata": {},
   "outputs": [],
   "source": [
    "# importing packages\n",
    "import rasterio as r\n",
    "import glob\n",
    "import numpy as np\n",
    "import geopandas as gpd\n",
    "from shapely.geometry import Polygon\n",
    "from tqdm import tqdm"
   ]
  },
  {
   "cell_type": "code",
   "execution_count": null,
   "metadata": {},
   "outputs": [],
   "source": [
    "# gets the list of files to use to define the grid. is is the rasterized reference files.\n",
    "files = glob.glob('/home/bruno.matosak/Semiarido/MultiInput/segmentations/GEM_id*.tif')\n",
    "files.sort()"
   ]
  },
  {
   "cell_type": "code",
   "execution_count": null,
   "metadata": {},
   "outputs": [],
   "source": [
    "# in this cell the possible samples grid is created\n",
    "# iterating through all tiles\n",
    "for file in tqdm(files):\n",
    "    # open a file for reference\n",
    "    ref_dataset = r.open(file)\n",
    "    # reads first band from reference dataset\n",
    "    ref = ref_dataset.read(1)\n",
    "\n",
    "    # defining some important parameters\n",
    "    chip_size = 254 # the width and height of every sample\n",
    "    total_overlap = 186 # the overlap between each sample (equals to the difference between\n",
    "                        # the sample size and the prediction size)\n",
    "    side_overlap = int(total_overlap/2) # overlap on each side\n",
    "    chip_util_size = chip_size-total_overlap # the output size. depends on the network.\n",
    "\n",
    "    # gets the number of lines and columns for the grid\n",
    "    i_size = int((ref.shape[0]-2*side_overlap)/chip_util_size)\n",
    "    j_size = int((ref.shape[1]-2*side_overlap)/chip_util_size)\n",
    "\n",
    "    # list to receive all origins of samples\n",
    "    origins = []\n",
    "    # array to save the reference of teh samples. used to study the references later\n",
    "    chips_refs = []\n",
    "    # loops to create the grid\n",
    "    for i in range(i_size):\n",
    "        for j in range(j_size):\n",
    "            # appends the origin to origins list\n",
    "            origins.append([i*chip_util_size,j*chip_util_size])\n",
    "            # appends th reference\n",
    "            chips_refs.append(ref[i+side_overlap:i+side_overlap+chip_util_size, j+side_overlap:j+side_overlap+chip_util_size])\n",
    "\n",
    "    # converts list to array\n",
    "    origins = np.asarray(origins)\n",
    "    # list to save geometries\n",
    "    geometries = []\n",
    "    # iterates through origins array\n",
    "    for origin in origins:\n",
    "        # converts origin list to array\n",
    "        o = np.asarray(origin)\n",
    "        # defines the sample geometry coordinates\n",
    "        square = np.asarray([o+side_overlap,\n",
    "                             [o[0]+side_overlap, o[1]+chip_util_size+side_overlap],\n",
    "                             [o[0]+chip_util_size+side_overlap, o[1]+chip_util_size+side_overlap],\n",
    "                             [o[0]+chip_util_size+side_overlap, o[1]+side_overlap],\n",
    "                             o+side_overlap])\n",
    "        # transform coordinates from row, col to lat, long\n",
    "        coords = np.asarray(r.transform.xy(transform=ref_dataset.transform, rows=square[:,0], cols=square[:,1])).T\n",
    "        # add coordinated to list\n",
    "        geometries.append(Polygon(coords))\n",
    "    \n",
    "    # creates GeoDataFrame with geopandas to save it later to shapefile\n",
    "    shp = gpd.GeoDataFrame({'ori_row': origins[:,0], 'ori_col': origins[:,1], 'tile_id': [int(file.split('d')[-1].split('.')[0])]*len(geometries), 'geometry': geometries}, geometry='geometry')\n",
    "    # assign correct projection\n",
    "    shp.crs = ref_dataset.crs\n",
    "    # finally, saves the shapefile to a file\n",
    "    shp.to_file(f\"/home/bruno.matosak/Semiarido/MultiInput/samples/shp_possible_samples/possible_samples_{file.split('_')[-1].split('.')[0]}.shp\")"
   ]
  }
 ],
 "metadata": {
  "kernelspec": {
   "display_name": "Python 3 (ipykernel)",
   "language": "python",
   "name": "python3"
  },
  "language_info": {
   "codemirror_mode": {
    "name": "ipython",
    "version": 3
   },
   "file_extension": ".py",
   "mimetype": "text/x-python",
   "name": "python",
   "nbconvert_exporter": "python",
   "pygments_lexer": "ipython3",
   "version": "3.11.0"
  }
 },
 "nbformat": 4,
 "nbformat_minor": 4
}
